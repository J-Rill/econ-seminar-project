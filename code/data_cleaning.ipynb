{
 "cells": [
  {
   "cell_type": "code",
   "execution_count": 78,
   "metadata": {},
   "outputs": [
    {
     "name": "stdout",
     "output_type": "stream",
     "text": [
      "Index(['country', 'year', 'iso_code', 'population', 'gdp', 'cement_co2',\n",
      "       'cement_co2_per_capita', 'co2', 'co2_growth_abs', 'co2_growth_prct',\n",
      "       'co2_including_luc', 'co2_including_luc_growth_abs',\n",
      "       'co2_including_luc_growth_prct', 'co2_including_luc_per_capita',\n",
      "       'co2_including_luc_per_gdp', 'co2_including_luc_per_unit_energy',\n",
      "       'co2_per_capita', 'co2_per_gdp', 'co2_per_unit_energy', 'coal_co2',\n",
      "       'coal_co2_per_capita', 'consumption_co2', 'consumption_co2_per_capita',\n",
      "       'consumption_co2_per_gdp', 'cumulative_cement_co2', 'cumulative_co2',\n",
      "       'cumulative_co2_including_luc', 'cumulative_coal_co2',\n",
      "       'cumulative_flaring_co2', 'cumulative_gas_co2', 'cumulative_luc_co2',\n",
      "       'cumulative_oil_co2', 'cumulative_other_co2', 'energy_per_capita',\n",
      "       'energy_per_gdp', 'flaring_co2', 'flaring_co2_per_capita', 'gas_co2',\n",
      "       'gas_co2_per_capita', 'ghg_excluding_lucf_per_capita', 'ghg_per_capita',\n",
      "       'land_use_change_co2', 'land_use_change_co2_per_capita', 'methane',\n",
      "       'methane_per_capita', 'nitrous_oxide', 'nitrous_oxide_per_capita',\n",
      "       'oil_co2', 'oil_co2_per_capita', 'other_co2_per_capita',\n",
      "       'other_industry_co2', 'primary_energy_consumption',\n",
      "       'share_global_cement_co2', 'share_global_co2',\n",
      "       'share_global_co2_including_luc', 'share_global_coal_co2',\n",
      "       'share_global_cumulative_cement_co2', 'share_global_cumulative_co2',\n",
      "       'share_global_cumulative_co2_including_luc',\n",
      "       'share_global_cumulative_coal_co2',\n",
      "       'share_global_cumulative_flaring_co2',\n",
      "       'share_global_cumulative_gas_co2', 'share_global_cumulative_luc_co2',\n",
      "       'share_global_cumulative_oil_co2', 'share_global_cumulative_other_co2',\n",
      "       'share_global_flaring_co2', 'share_global_gas_co2',\n",
      "       'share_global_luc_co2', 'share_global_oil_co2',\n",
      "       'share_global_other_co2', 'share_of_temperature_change_from_ghg',\n",
      "       'temperature_change_from_ch4', 'temperature_change_from_co2',\n",
      "       'temperature_change_from_ghg', 'temperature_change_from_n2o',\n",
      "       'total_ghg', 'total_ghg_excluding_lucf', 'trade_co2',\n",
      "       'trade_co2_share'],\n",
      "      dtype='object')\n"
     ]
    }
   ],
   "source": [
    "import pandas as pd, numpy as np\n",
    "import os\n",
    "\n",
    "# Read in data\n",
    "\n",
    "co2_df = pd.read_csv('data/owid-co2-data.csv')\n",
    "\n",
    "print(co2_df.columns)"
   ]
  },
  {
   "cell_type": "code",
   "execution_count": 73,
   "metadata": {},
   "outputs": [],
   "source": [
    "# List of treatment groups for Europe (implemented in 2005)\n",
    "europe_li = ['Austria', 'Belgium', 'Bulgaria', 'Croatia', 'Cyprus', 'Czech Republic', 'Denmark', 'Estonia', 'Finland', 'France', 'Germany', 'Greece', 'Hungary', 'Ireland', 'Italy', 'Latvia', 'Lithuania', 'Luxembourg', 'Malta', 'Netherlands', 'Poland', 'Portugal', 'Romania', 'Slovakia', 'Slovenia', 'Spain', 'Sweden']\n",
    "\n",
    "# List of control groups for Europe\n",
    "europe_controls_li = ['Albania', 'Bosnia and Herzegovina', 'Montenegro', 'North Macedonia', 'Serbia']\n",
    "\n",
    "# Korea implemented ETS in 2015\n",
    "korea_li = ['South Korea']\n",
    "\n",
    "# List of control groups for China and South Korea\n",
    "asia_controls_li = ['Cambodia', 'Indonesia', 'Laos', 'Malaysia', 'Mongolia', 'Myanmar', 'Philippines', 'Singapore', 'Thailand', 'Timor-Leste', 'Vietnam']\n",
    "\n",
    "# Kazakhstan implemented ETS in 2013\n",
    "\n",
    "kazakhstan_li = ['Kazakhstan']\n",
    "\n",
    "# Kazakhstan control group in Central Asia\n",
    "central_asia_controls_li = ['Kyrgyzstan', 'Tajikistan', 'Turkmenistan', 'Uzbekistan'] \n",
    "\n",
    "# Combining all lists for the total countries list\n",
    "\n",
    "countries_li = europe_li + europe_controls_li + korea_li + asia_controls_li + kazakhstan_li + central_asia_controls_li\n",
    "\n",
    "# Creating a new dataframe with only the countries in the countries list\n",
    "co2_df = co2_df[co2_df['country'].isin(countries_li)]\n",
    "\n",
    "# Now we filter for all the years past 1985\n",
    "\n",
    "co2_df = co2_df[co2_df['year'] >= 1985]\n",
    "co2_df = co2_df[co2_df['year'] < 2019]\n",
    "co2_df = co2_df[['country', 'year', 'co2', 'co2_growth_prct', 'co2_per_capita', 'gdp', 'population']]\n",
    "\n",
    "co2_df['gdp_per_capita'] = co2_df['gdp'] / co2_df['population']"
   ]
  },
  {
   "cell_type": "code",
   "execution_count": 76,
   "metadata": {},
   "outputs": [
    {
     "name": "stderr",
     "output_type": "stream",
     "text": [
      "/var/folders/7n/dxn1yzwx1454wrdfz2_x4x6c0000gn/T/ipykernel_25582/884512285.py:19: SettingWithCopyWarning: \n",
      "A value is trying to be set on a copy of a slice from a DataFrame.\n",
      "Try using .loc[row_indexer,col_indexer] = value instead\n",
      "\n",
      "See the caveats in the documentation: https://pandas.pydata.org/pandas-docs/stable/user_guide/indexing.html#returning-a-view-versus-a-copy\n",
      "  europe_df['treated'] = ((europe_df['country'].isin(europe_li)) & (europe_df['year'] >= 2005)).astype(int)\n",
      "/var/folders/7n/dxn1yzwx1454wrdfz2_x4x6c0000gn/T/ipykernel_25582/884512285.py:20: SettingWithCopyWarning: \n",
      "A value is trying to be set on a copy of a slice from a DataFrame.\n",
      "Try using .loc[row_indexer,col_indexer] = value instead\n",
      "\n",
      "See the caveats in the documentation: https://pandas.pydata.org/pandas-docs/stable/user_guide/indexing.html#returning-a-view-versus-a-copy\n",
      "  korea_df['treated'] = ((korea_df['country'].isin(korea_li)) & (korea_df['year'] >= 2015)).astype(int)\n",
      "/var/folders/7n/dxn1yzwx1454wrdfz2_x4x6c0000gn/T/ipykernel_25582/884512285.py:21: SettingWithCopyWarning: \n",
      "A value is trying to be set on a copy of a slice from a DataFrame.\n",
      "Try using .loc[row_indexer,col_indexer] = value instead\n",
      "\n",
      "See the caveats in the documentation: https://pandas.pydata.org/pandas-docs/stable/user_guide/indexing.html#returning-a-view-versus-a-copy\n",
      "  kazakhstan_df['treated'] = ((kazakhstan_df['country'].isin(kazakhstan_li)) & (kazakhstan_df['year'] >= 2013)).astype(int)\n"
     ]
    }
   ],
   "source": [
    "# Filtering to important variables only\n",
    "\n",
    "final_df = co2_df[['country', 'year', 'co2_per_capita', 'gdp_per_capita', 'population', 'gdp', 'co2']]\n",
    "\n",
    "# Next task: create an indicator variable for whether a country is in the treatment group or not. We should probably separate the regions into different dataframes.\n",
    "\n",
    "all_europe_region = europe_li + europe_controls_li\n",
    "all_korea_region = korea_li + asia_controls_li\n",
    "all_kazakhstan_region = kazakhstan_li + central_asia_controls_li\n",
    "\n",
    "\n",
    "europe_df = final_df[final_df['country'].isin(all_europe_region)]\n",
    "korea_df = final_df[final_df['country'].isin(all_korea_region)]\n",
    "kazakhstan_df = final_df[final_df['country'].isin(all_kazakhstan_region)]\n",
    "\n",
    "# Creating the indicator variable for each region\n",
    "\n",
    "# EU: treatment starts in 2005 for only EU countries (ocuntries in euroep_li)\n",
    "europe_df['treated'] = ((europe_df['country'].isin(europe_li)) & (europe_df['year'] >= 2005)).astype(int)\n",
    "korea_df['treated'] = ((korea_df['country'].isin(korea_li)) & (korea_df['year'] >= 2015)).astype(int)\n",
    "kazakhstan_df['treated'] = ((kazakhstan_df['country'].isin(kazakhstan_li)) & (kazakhstan_df['year'] >= 2013)).astype(int)"
   ]
  },
  {
   "cell_type": "code",
   "execution_count": 77,
   "metadata": {},
   "outputs": [],
   "source": [
    "# Export file\n",
    "europe_df.to_csv('output/europe_df.csv', index=False)\n",
    "korea_df.to_csv('output/korea_df.csv', index=False)\n",
    "kazakhstan_df.to_csv('output/kazakhstan_df.csv', index=False)"
   ]
  }
 ],
 "metadata": {
  "kernelspec": {
   "display_name": "mlenv",
   "language": "python",
   "name": "python3"
  },
  "language_info": {
   "codemirror_mode": {
    "name": "ipython",
    "version": 3
   },
   "file_extension": ".py",
   "mimetype": "text/x-python",
   "name": "python",
   "nbconvert_exporter": "python",
   "pygments_lexer": "ipython3",
   "version": "3.10.14"
  }
 },
 "nbformat": 4,
 "nbformat_minor": 2
}
